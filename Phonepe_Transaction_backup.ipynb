{
 "cells": [
  {
   "cell_type": "code",
   "execution_count": null,
   "id": "b7064c01",
   "metadata": {},
   "outputs": [],
   "source": [
    "import pandas as pd\n",
    "import numpy as np\n",
    "import matplotlib.pyplot as plt\n",
    "import seaborn as sns\n",
    "%matplotlib inline \n",
    "plt.style.use('default')\n",
    "sns.set_palette(\"husl\")"
   ]
  },
  {
   "cell_type": "code",
   "execution_count": null,
   "id": "a5fdead8",
   "metadata": {},
   "outputs": [],
   "source": [
    "df = pd.read_csv('/Users/nishant/Desktop/Datasets/Phonepe/aggregated/Phonepe/phonepe_transaction.csv')"
   ]
  },
  {
   "cell_type": "code",
   "execution_count": null,
   "id": "35dff443",
   "metadata": {},
   "outputs": [],
   "source": [
    "# Convert all column names to lowercase for consistency\n",
    "df.columns = df.columns.str.lower()\n",
    "print(\"Column names converted to lowercase:\")\n",
    "print(df.columns)"
   ]
  },
  {
   "cell_type": "code",
   "execution_count": null,
   "id": "e7acfcdc",
   "metadata": {},
   "outputs": [],
   "source": [
    "print(df.columns)"
   ]
  },
  {
   "cell_type": "code",
   "execution_count": null,
   "id": "8d17f8c9",
   "metadata": {},
   "outputs": [],
   "source": [
    "df.head()"
   ]
  },
  {
   "cell_type": "code",
   "execution_count": null,
   "id": "d4ebede3",
   "metadata": {},
   "outputs": [],
   "source": [
    "df.shape"
   ]
  },
  {
   "cell_type": "code",
   "execution_count": null,
   "id": "511d051a",
   "metadata": {},
   "outputs": [],
   "source": [
    "df.describe()"
   ]
  },
  {
   "cell_type": "code",
   "execution_count": null,
   "id": "89cbc6ad",
   "metadata": {},
   "outputs": [],
   "source": [
    "df.isnull().sum() # Check for missing values"
   ]
  },
  {
   "cell_type": "markdown",
   "id": "374f644c",
   "metadata": {},
   "source": [
    "Top 10 States by Transaction Amount and Count:"
   ]
  },
  {
   "cell_type": "code",
   "execution_count": null,
   "id": "a254988f",
   "metadata": {},
   "outputs": [],
   "source": [
    "# Filter out 'All States'\n",
    "df_filtered = df[df['state'] != 'All States']\n",
    "top_10_states_amount = df_filtered.groupby('state')['transaction_amount'].sum().sort_values(ascending=False).head(10)\n",
    "# Convert the transaction amount to crores\n",
    "top_10_states_amount_crores = (top_10_states_amount / 1e7).round(2)\n",
    "print(\"Top 10 States by Transaction Amount (in Crores):\")\n",
    "print(top_10_states_amount_crores)\n"
   ]
  },
  {
   "cell_type": "code",
   "execution_count": null,
   "id": "98408d77",
   "metadata": {},
   "outputs": [],
   "source": [
    "# 2. Visualize the top 10 states by transaction amount\n",
    "plt.figure(figsize=(12, 6))\n",
    "bars = plt.bar(top_10_states_amount_crores.index, top_10_states_amount_crores.values, \n",
    "               color='skyblue', edgecolor='navy', alpha=0.7)\n",
    "plt.title('Top 10 States by Transaction Amount', fontsize=16, fontweight='bold')\n",
    "plt.xlabel('State', fontsize=12)\n",
    "plt.ylabel('Total Transaction Amount (in Crores)', fontsize=12)\n",
    "plt.xticks(rotation=45, ha='right')\n",
    "plt.grid(axis='y', alpha=0.3)\n",
    "\n",
    "# Add value labels on top of bars\n",
    "for bar in bars:\n",
    "    height = bar.get_height()\n",
    "    plt.text(bar.get_x() + bar.get_width()/2., height + height*0.01,\n",
    "             f'{height:.1f}', ha='center', va='bottom', fontsize=10)\n",
    "\n",
    "plt.tight_layout()\n",
    "plt.show()"
   ]
  },
  {
   "cell_type": "code",
   "execution_count": null,
   "id": "9008e931",
   "metadata": {},
   "outputs": [],
   "source": [
    "# Group by quarter and sum the transaction amount\n",
    "quarterly_amount = df_filtered.groupby('quarter')['transaction_amount'].sum().reset_index()\n",
    "\n",
    "# Create a bar chart to visualize the quarterly transaction amount\n",
    "fig_quarterly_amount = px.bar(quarterly_amount,\n",
    "                            x='quarter',\n",
    "                            y='transaction_amount',\n",
    "                            title='Transaction Amount by Quarter',\n",
    "                            labels={'transaction_amount': 'Total Transaction Amount', 'quarter': 'Quarter'},\n",
    "                            color='quarter')\n",
    "fig_quarterly_amount.show()"
   ]
  },
  {
   "cell_type": "code",
   "execution_count": null,
   "id": "377e53b7",
   "metadata": {},
   "outputs": [],
   "source": [
    "# Group by quarter and sum the transaction count\n",
    "quarterly_count = df_filtered.groupby('quarter')['transaction_count'].sum().reset_index()\n",
    "\n",
    "# Create a bar chart to visualize the quarterly transaction count\n",
    "fig_quarterly_count = px.bar(quarterly_count,\n",
    "                           x='quarter',\n",
    "                           y='transaction_count',\n",
    "                           title='Transaction Count by Quarter',\n",
    "                           labels={'transaction_count': 'Total Transaction Count', 'quarter': 'Quarter'},\n",
    "                           color='quarter')\n",
    "fig_quarterly_count.show()"
   ]
  },
  {
   "cell_type": "markdown",
   "id": "62bf9aaf",
   "metadata": {},
   "source": [
    "4. Most Common Transaction Types\n"
   ]
  },
  {
   "cell_type": "code",
   "execution_count": null,
   "id": "920ca6ef",
   "metadata": {},
   "outputs": [],
   "source": [
    "# Group by transaction category and sum the transaction count\n",
    "transaction_category_counts = df_filtered.groupby('transaction_category')['transaction_count'].sum().reset_index()\n",
    "\n",
    "# Create a pie chart to visualize the distribution of transaction categories\n",
    "fig_pie_categories = px.pie(transaction_category_counts,\n",
    "                       names='transaction_category',\n",
    "                       values='transaction_count',\n",
    "                       title='Distribution of Transaction Categories',\n",
    "                       hole=0.05)\n",
    "fig_pie_categories.update_traces(textposition='inside', textinfo='percent+label')\n",
    "fig_pie_categories.show()                       "
   ]
  },
  {
   "cell_type": "markdown",
   "id": "6895bc11",
   "metadata": {},
   "source": [
    "5. Distribution of Transaction Types in a Specific State\n"
   ]
  },
  {
   "cell_type": "code",
   "execution_count": null,
   "id": "a5206278",
   "metadata": {},
   "outputs": [],
   "source": [
    "# Choose a state to analyze (with correct capitalization)\n",
    "state_to_analyze = 'Bihar'\n",
    "\n",
    "# Filter the DataFrame for the selected state\n",
    "state_df = df_filtered[df_filtered['state'] == state_to_analyze]\n",
    "\n",
    "# Group by the correct column name: 'transaction_category'\n",
    "state_transaction_counts = state_df.groupby('transaction_category')['transaction_count'].sum().reset_index()\n",
    "\n",
    "# Create a pie chart\n",
    "fig_state_pie = px.pie(state_transaction_counts,\n",
    "                       names='transaction_category',\n",
    "                       values='transaction_count',\n",
    "                       title=f'Distribution of Transaction Types in {state_to_analyze}',\n",
    "                       hole=0.05)\n",
    "\n",
    "fig_state_pie.update_traces(textposition='inside', textinfo='percent+label')\n",
    "fig_state_pie.show()"
   ]
  },
  {
   "cell_type": "markdown",
   "id": "771df9f3",
   "metadata": {},
   "source": [
    "6. Transaction Amount vs. Transaction Count by State"
   ]
  },
  {
   "cell_type": "code",
   "execution_count": null,
   "id": "285e5aa4",
   "metadata": {},
   "outputs": [],
   "source": [
    "# Group by state to get the total transaction amount and count\n",
    "state_summary = df_filtered.groupby('state').agg({\n",
    "    'transaction_amount':'sum',\n",
    "    'transaction_count':'sum'\n",
    "}).reset_index()"
   ]
  },
  {
   "cell_type": "code",
   "execution_count": null,
   "id": "795129e5",
   "metadata": {},
   "outputs": [],
   "source": [
    "# create a bar chart to visualize the relationship\n",
    "fig_bar_comparison = px.bar(state_summary,\n",
    "                            x='state',\n",
    "                            y=['transaction_amount', 'transaction_count'],\n",
    "                            title='Transaction Amount vs. Transaction Count by State',\n",
    "                            labels={'value': 'Transaction Amount / Count', 'variable': 'Metric'},\n",
    "                            barmode='group',# This creates the side-by-side bars\n",
    "                            log_y=True)  # Use log scale for better visibility\n",
    "fig_bar_comparison.update_layout(xaxis={'categoryorder':'total descending'}) # Order states by the total value\n",
    "fig_bar_comparison.show()"
   ]
  },
  {
   "cell_type": "markdown",
   "id": "e519a899",
   "metadata": {},
   "source": [
    "7. Average Transaction Value (ATV) by State"
   ]
  },
  {
   "cell_type": "code",
   "execution_count": null,
   "id": "5be71eb8",
   "metadata": {},
   "outputs": [],
   "source": [
    "state_summary['average_transaction_value'] = state_summary['transaction_amount'] / state_summary['transaction_count']\n",
    "\n",
    "# sort the state by ATV in desc order\n",
    "atv_sorted = state_summary.sort_values(by='average_transaction_value',ascending=False)\n"
   ]
  },
  {
   "cell_type": "code",
   "execution_count": null,
   "id": "efff47ee",
   "metadata": {},
   "outputs": [],
   "source": [
    "# Get the top 10 and bottom 10 states by ATV\n",
    "top_10_atv = atv_sorted.head(10)\n",
    "bottom_10_atv = atv_sorted.tail(10)\n",
    "\n",
    "# Combine them into a single dataframe for plotting\n",
    "atv_comparison = pd.concat([top_10_atv, bottom_10_atv])\n",
    "\n",
    "# Create the bar chart\n",
    "fig_atv_bar = px.bar(atv_comparison,\n",
    "                     x='state',\n",
    "                     y='average_transaction_value',\n",
    "                     color='average_transaction_value',\n",
    "                     color_continuous_scale='Plasma',\n",
    "                     title='Top and Bottom 10 States by Average Transaction Value (ATV)',\n",
    "                     labels={'average_transaction_value': 'Average Transaction Value', 'state': 'State'})\n",
    "\n",
    "fig_atv_bar.update_layout(xaxis={'categoryorder':'total descending'})\n",
    "fig_atv_bar.show()"
   ]
  },
  {
   "cell_type": "markdown",
   "id": "f4a7b975",
   "metadata": {},
   "source": [
    "Correlation Analysis of Key Metrics"
   ]
  },
  {
   "cell_type": "code",
   "execution_count": null,
   "id": "001c2ff5",
   "metadata": {},
   "outputs": [],
   "source": [
    "# --- Calculate the Correlation Matrix ---\n",
    "\n",
    "# Select only the numerical columns for correlation analysis\n",
    "correlation_data = state_summary[['transaction_amount', 'transaction_count', 'average_transaction_value']]\n",
    "\n",
    "# Calculate the correlation matrix\n",
    "correlation_matrix = correlation_data.corr()\n",
    "\n",
    "# Print the correlation matrix for reference\n",
    "print(\"Correlation Matrix:\")\n",
    "print(correlation_matrix)\n",
    "\n",
    "\n",
    "# --- Visualize the Correlation Matrix with a Heatmap ---\n",
    "\n",
    "# Create the heatmap\n",
    "fig_corr_heatmap = px.imshow(\n",
    "    correlation_matrix,\n",
    "    text_auto=True,  # Automatically display the correlation values on the heatmap\n",
    "    aspect=\"auto\",\n",
    "    color_continuous_scale='RdBu_r', # Use a diverging color scale for better interpretation\n",
    "    title='Correlation Matrix of Transaction Metrics'\n",
    ")\n",
    "\n",
    "fig_corr_heatmap.show()"
   ]
  }
 ],
 "metadata": {
  "kernelspec": {
   "display_name": "base",
   "language": "python",
   "name": "python3"
  },
  "language_info": {
   "codemirror_mode": {
    "name": "ipython",
    "version": 3
   },
   "file_extension": ".py",
   "mimetype": "text/x-python",
   "name": "python",
   "nbconvert_exporter": "python",
   "pygments_lexer": "ipython3",
   "version": "3.11.3"
  }
 },
 "nbformat": 4,
 "nbformat_minor": 5
}
